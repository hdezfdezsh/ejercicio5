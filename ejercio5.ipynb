{
 "cells": [
  {
   "cell_type": "code",
   "execution_count": 107,
   "metadata": {
    "scrolled": false
   },
   "outputs": [
    {
     "data": {
      "text/html": [
       "<h3>Carreras con mas trabajo</h3>"
      ],
      "text/plain": [
       "<IPython.core.display.HTML object>"
      ]
     },
     "metadata": {},
     "output_type": "display_data"
    }
   ],
   "source": [
    "%%html\n",
    "<h3>Carreras con mas trabajo</h3>"
   ]
  },
  {
   "cell_type": "code",
   "execution_count": 108,
   "metadata": {
    "scrolled": false
   },
   "outputs": [],
   "source": [
    "import pandas as pd\n",
    "import mysql.connector\n",
    "import matplotlib.pyplot as plt"
   ]
  },
  {
   "cell_type": "code",
   "execution_count": 109,
   "metadata": {},
   "outputs": [
    {
     "name": "stdout",
     "output_type": "stream",
     "text": [
      "   codigo_carrera                     nombre_carrera  porcentaje_trabajo\n",
      "0               1                   filologioa vasca                  85\n",
      "1               2                        lingüistica                  86\n",
      "2               3                optica y optometria                  91\n",
      "3               4                         bioquimica                  76\n",
      "4               5                           medicina                 100\n",
      "5               6                        odontologia                  98\n",
      "6               7       magisterio lengua extrangera                  86\n",
      "7               8  magisterio en audicion y lenguaje                  70\n",
      "8               9             ingenieria electronica                  79\n",
      "9              10             ingenieria informatica                  60\n"
     ]
    }
   ],
   "source": [
    "conexion=mysql.connector.connect(user='test',password='test',host='127.0.0.1', database='mydb')\n",
    "mostrar = pd.read_sql('SELECT * FROM carrera', con=conexion)\n",
    "print(mostrar)"
   ]
  },
  {
   "cell_type": "code",
   "execution_count": 110,
   "metadata": {
    "scrolled": true
   },
   "outputs": [
    {
     "name": "stdout",
     "output_type": "stream",
     "text": [
      "   codigo_carrera                nombre_carrera  porcentaje_trabajo\n",
      "4               5                      medicina                 100\n",
      "5               6                   odontologia                  98\n",
      "2               3           optica y optometria                  91\n",
      "1               2                   lingüistica                  86\n",
      "6               7  magisterio lengua extrangera                  86\n"
     ]
    }
   ],
   "source": [
    "df=mostrar.sort_values(by=['porcentaje_trabajo'],ascending=[False])\n",
    "data=df[:5]\n",
    "print(data)"
   ]
  },
  {
   "cell_type": "code",
   "execution_count": 111,
   "metadata": {},
   "outputs": [
    {
     "data": {
      "text/plain": [
       "<matplotlib.axes._subplots.AxesSubplot at 0x7f754b683048>"
      ]
     },
     "execution_count": 111,
     "metadata": {},
     "output_type": "execute_result"
    },
    {
     "data": {
      "image/png": "[encoded data removed]",
      "text/plain": [
       "<Figure size 432x288 with 1 Axes>"
      ]
     },
     "metadata": {},
     "output_type": "display_data"
    }
   ],
   "source": [
    "data.plot.bar(y='porcentaje_trabajo',x='nombre_carrera')"
   ]
  },
  {
   "cell_type": "code",
   "execution_count": null,
   "metadata": {},
   "outputs": [],
   "source": []
  },
  {
   "cell_type": "code",
   "execution_count": null,
   "metadata": {},
   "outputs": [],
   "source": []
  }
 ],
 "metadata": {
  "kernelspec": {
   "display_name": "Python 3",
   "language": "python",
   "name": "python3"
  },
  "language_info": {
   "codemirror_mode": {
    "name": "ipython",
    "version": 3
   },
   "file_extension": ".py",
   "mimetype": "text/x-python",
   "name": "python",
   "nbconvert_exporter": "python",
   "pygments_lexer": "ipython3",
   "version": "3.6.5"
  }
 },
 "nbformat": 4,
 "nbformat_minor": 2
}
